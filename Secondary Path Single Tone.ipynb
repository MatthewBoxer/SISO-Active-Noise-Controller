{
 "cells": [
  {
   "cell_type": "code",
   "execution_count": null,
   "metadata": {},
   "outputs": [],
   "source": [
    "#measuring the secondary path of the speaker to microphone\n",
    "\n",
    "import pyaudio\n",
    "import numpy as np\n",
    "import time\n",
    "import scipy.signal as sig\n",
    "from matplotlib import pyplot as plt\n",
    "\n",
    "#parameters\n",
    "CHUNK = 2048\n",
    "FORMAT = pyaudio.paFloat32\n",
    "CHANNELS = 1\n",
    "RATE = 44100\n",
    "\n",
    "p = pyaudio.PyAudio()\n",
    "\n",
    "freq = 528 #frequency of reference\n",
    "x=np.arange(0,CHUNK,1) #for calculating the reference each iteration\n",
    "\n",
    "response_frames = np.array([])\n",
    "control_frames = np.array([])\n",
    "control_frames = np.append(control_frames, np.zeros(CHUNK))\n",
    "\n",
    "#measure the transfer function of the system\n",
    "def main():\n",
    "    \n",
    "    total_responses = np.empty(2*RATE)\n",
    "    total_controls = np.empty(2*RATE)\n",
    "    \n",
    "    for i in range(20):\n",
    "    \n",
    "        #open the audio stream\n",
    "        stream = p.open(format=FORMAT,\n",
    "                        channels=CHANNELS,\n",
    "                        rate=RATE,\n",
    "                        output=True,\n",
    "                        input=True,\n",
    "                        input_device_index = 1, \n",
    "                        output_device_index = 4, \n",
    "                        frames_per_buffer=CHUNK,\n",
    "                        stream_callback=callback)\n",
    "\n",
    "        #callback function is called while this loop waits\n",
    "        stream.start_stream()\n",
    "        while stream.is_active():\n",
    "            time.sleep(1)\n",
    "            stream.stop_stream()\n",
    "        stream.close()\n",
    "        \n",
    "    np.savetxt('All response frames', response_frames)\n",
    "    np.savetxt('All control frames', control_frames)\n",
    "        \n",
    "    p.terminate()\n",
    "\n",
    "#called everytime there is new audio to record or play\n",
    "def callback(in_data, frame_count, time_info, flag):\n",
    "    global response_frames, control_frames, x, output_sin\n",
    "    \n",
    "    #record the audio through the microphone\n",
    "    input_audio = in_data\n",
    "    response_frames = np.append(response_frames, np.frombuffer(input_audio, dtype=np.float32))\n",
    "    \n",
    "    output_sin = 0.5*np.sin(2*np.pi*freq*(1/RATE)*x)\n",
    "    x = x+CHUNK\n",
    "    \n",
    "    output_audio = output_sin\n",
    "    control_frames = np.append(control_frames, output_audio)\n",
    "    \n",
    "    output = output_audio\n",
    "    \n",
    "    return (output.astype(np.float32).tobytes(), pyaudio.paContinue)\n",
    "\n",
    "main()"
   ]
  },
  {
   "cell_type": "code",
   "execution_count": null,
   "metadata": {},
   "outputs": [],
   "source": [
    "plt.plot(control_frames, 'b-', label = 'Control Signal')\n",
    "plt.plot(response_frames, 'r-', label = 'Response Signal')\n",
    "plt.title('Secondary Path Estimation')\n",
    "plt.xlabel('Sample Number')\n",
    "plt.xlabel('Sound Amplitude')\n",
    "plt.legend()"
   ]
  },
  {
   "cell_type": "code",
   "execution_count": null,
   "metadata": {},
   "outputs": [],
   "source": [
    "plt.plot(control_frames, 'b-', label = 'Control Signal')\n",
    "plt.plot(response_frames, 'r-', label = 'Response Signal')\n",
    "plt.xlim(31000, 32000)"
   ]
  },
  {
   "cell_type": "code",
   "execution_count": 3,
   "metadata": {},
   "outputs": [
    {
     "data": {
      "text/plain": [
       "[<matplotlib.lines.Line2D at 0x2119f965520>]"
      ]
     },
     "execution_count": 3,
     "metadata": {},
     "output_type": "execute_result"
    },
    {
     "data": {
      "image/png": "[encoded data removed]",
      "text/plain": [
       "<Figure size 432x288 with 1 Axes>"
      ]
     },
     "metadata": {
      "needs_background": "light"
     },
     "output_type": "display_data"
    }
   ],
   "source": [
    "import numpy as np\n",
    "from matplotlib import pyplot as plt\n",
    "\n",
    "controls = np.loadtxt('All control frames')\n",
    "responses = np.loadtxt('All response frames')\n",
    "\n",
    "plt.plot(controls, 'b-')\n",
    "plt.plot(responses, 'r-')"
   ]
  },
  {
   "cell_type": "code",
   "execution_count": null,
   "metadata": {},
   "outputs": [],
   "source": []
  }
 ],
 "metadata": {
  "kernelspec": {
   "display_name": "Python 3",
   "language": "python",
   "name": "python3"
  },
  "language_info": {
   "codemirror_mode": {
    "name": "ipython",
    "version": 3
   },
   "file_extension": ".py",
   "mimetype": "text/x-python",
   "name": "python",
   "nbconvert_exporter": "python",
   "pygments_lexer": "ipython3",
   "version": "3.8.5"
  }
 },
 "nbformat": 4,
 "nbformat_minor": 4
}
